{
  "nbformat": 4,
  "nbformat_minor": 0,
  "metadata": {
    "colab": {
      "provenance": []
    },
    "kernelspec": {
      "name": "python3",
      "display_name": "Python 3"
    },
    "language_info": {
      "name": "python"
    }
  },
  "cells": [
    {
      "cell_type": "markdown",
      "source": [
        "###Q1. What is an Exception in python? Write the difference between Exceptions and syntax errors \n",
        "\n",
        "\n",
        "\n",
        "*   In Python, an exception is an error that occurs during the execution of a program. When an exception occurs, the normal flow of execution is interrupted, and the interpreter raises an exception object. An exception can occur due to various reasons, such as incorrect user input, incorrect file input/output operations, division by zero, or running out of memory.\n",
        "*   Exceptions are different from syntax errors in that syntax errors occur when the code violates the rules of the Python language syntax, while exceptions occur during the execution of a program, even if the code is syntactically correct.\n",
        "\n",
        "* Syntax errors are typically detected by the Python interpreter during the parsing of the code, and they prevent the program from running. For example, a syntax error might occur if you forget to close a parenthesis, misspell a Python keyword, or use an operator incorrectly.\n",
        "\n",
        "* Exceptions, on the other hand, occur when the program runs and are often caused by unexpected or erroneous input or external factors such as file I/O or network connectivity issues. Examples of exceptions include ZeroDivisionError, FileNotFoundError, and TypeError.\n",
        "\n"
      ],
      "metadata": {
        "id": "DbYJupC4HQeS"
      }
    },
    {
      "cell_type": "code",
      "execution_count": null,
      "metadata": {
        "id": "gMnQB_eKHA7H"
      },
      "outputs": [],
      "source": []
    },
    {
      "cell_type": "markdown",
      "source": [
        "###Q2. What happens when an exception is not handled? Explain with an example\n",
        "\n",
        "\n",
        "* When an exception is not handled in a Python program, the program terminates with an error message, and the interpreter prints a traceback message that shows where the exception occurred and what caused it. This means that any code after the line where the exception occurred will not be executed.\n",
        "\n",
        "\n",
        "####Here is an example of what happens when an exception is not handled:"
      ],
      "metadata": {
        "id": "QICYhV8AJ4ER"
      }
    },
    {
      "cell_type": "code",
      "source": [
        "def divide(x, y):\n",
        "    result = x / y\n",
        "    print(f\"The result of dividing {x} by {y} is {result}\")\n",
        "\n",
        "# calling the divide function with y = 0, which causes a ZeroDivisionError\n",
        "divide(5, 0)\n",
        "print(\"This line of code will not be executed\")\n"
      ],
      "metadata": {
        "colab": {
          "base_uri": "https://localhost:8080/",
          "height": 353
        },
        "id": "FFVf1QioKpfE",
        "outputId": "fd9a9759-c039-42eb-dbd7-33542ed9b2a3"
      },
      "execution_count": 1,
      "outputs": [
        {
          "output_type": "error",
          "ename": "ZeroDivisionError",
          "evalue": "ignored",
          "traceback": [
            "\u001b[0;31m---------------------------------------------------------------------------\u001b[0m",
            "\u001b[0;31mZeroDivisionError\u001b[0m                         Traceback (most recent call last)",
            "\u001b[0;32m<ipython-input-1-62631d55b2c3>\u001b[0m in \u001b[0;36m<module>\u001b[0;34m\u001b[0m\n\u001b[1;32m      4\u001b[0m \u001b[0;34m\u001b[0m\u001b[0m\n\u001b[1;32m      5\u001b[0m \u001b[0;31m# calling the divide function with y = 0, which causes a ZeroDivisionError\u001b[0m\u001b[0;34m\u001b[0m\u001b[0;34m\u001b[0m\u001b[0;34m\u001b[0m\u001b[0m\n\u001b[0;32m----> 6\u001b[0;31m \u001b[0mdivide\u001b[0m\u001b[0;34m(\u001b[0m\u001b[0;36m5\u001b[0m\u001b[0;34m,\u001b[0m \u001b[0;36m0\u001b[0m\u001b[0;34m)\u001b[0m\u001b[0;34m\u001b[0m\u001b[0;34m\u001b[0m\u001b[0m\n\u001b[0m\u001b[1;32m      7\u001b[0m \u001b[0mprint\u001b[0m\u001b[0;34m(\u001b[0m\u001b[0;34m\"This line of code will not be executed\"\u001b[0m\u001b[0;34m)\u001b[0m\u001b[0;34m\u001b[0m\u001b[0;34m\u001b[0m\u001b[0m\n",
            "\u001b[0;32m<ipython-input-1-62631d55b2c3>\u001b[0m in \u001b[0;36mdivide\u001b[0;34m(x, y)\u001b[0m\n\u001b[1;32m      1\u001b[0m \u001b[0;32mdef\u001b[0m \u001b[0mdivide\u001b[0m\u001b[0;34m(\u001b[0m\u001b[0mx\u001b[0m\u001b[0;34m,\u001b[0m \u001b[0my\u001b[0m\u001b[0;34m)\u001b[0m\u001b[0;34m:\u001b[0m\u001b[0;34m\u001b[0m\u001b[0;34m\u001b[0m\u001b[0m\n\u001b[0;32m----> 2\u001b[0;31m     \u001b[0mresult\u001b[0m \u001b[0;34m=\u001b[0m \u001b[0mx\u001b[0m \u001b[0;34m/\u001b[0m \u001b[0my\u001b[0m\u001b[0;34m\u001b[0m\u001b[0;34m\u001b[0m\u001b[0m\n\u001b[0m\u001b[1;32m      3\u001b[0m     \u001b[0mprint\u001b[0m\u001b[0;34m(\u001b[0m\u001b[0;34mf\"The result of dividing {x} by {y} is {result}\"\u001b[0m\u001b[0;34m)\u001b[0m\u001b[0;34m\u001b[0m\u001b[0;34m\u001b[0m\u001b[0m\n\u001b[1;32m      4\u001b[0m \u001b[0;34m\u001b[0m\u001b[0m\n\u001b[1;32m      5\u001b[0m \u001b[0;31m# calling the divide function with y = 0, which causes a ZeroDivisionError\u001b[0m\u001b[0;34m\u001b[0m\u001b[0;34m\u001b[0m\u001b[0;34m\u001b[0m\u001b[0m\n",
            "\u001b[0;31mZeroDivisionError\u001b[0m: division by zero"
          ]
        }
      ]
    },
    {
      "cell_type": "markdown",
      "source": [
        "###Q3. Which Python statements are used to ,catch and handle exceptions? Explain with an example\n",
        "\n",
        "* In Python, we use try-except blocks to catch and handle exceptions that occur in our code.\n",
        "\n",
        "* The try block contains the code that we want to execute, and the except block contains the code that we want to execute if an exception occurs in the try block.\n",
        "\n",
        "####Here's an example that demonstrates how to use try-except blocks to handle exceptions:\n"
      ],
      "metadata": {
        "id": "Bb6bXsytLDZg"
      }
    },
    {
      "cell_type": "code",
      "source": [
        "try:\n",
        "    num = int(input(\"Enter a number: \"))\n",
        "    result = 100 / num\n",
        "    print(f\"The result of dividing 100 by {num} is {result}\")\n",
        "except ValueError:\n",
        "    print(\"You must enter a valid integer.\")\n",
        "except ZeroDivisionError:\n",
        "    print(\"You cannot divide by zero.\")\n"
      ],
      "metadata": {
        "colab": {
          "base_uri": "https://localhost:8080/"
        },
        "id": "YtT_zo4xKvSu",
        "outputId": "1cd2cb1e-444b-4769-8abd-7c5008108ac7"
      },
      "execution_count": 4,
      "outputs": [
        {
          "output_type": "stream",
          "name": "stdout",
          "text": [
            "Enter a number: 0\n",
            "You cannot divide by zero.\n"
          ]
        }
      ]
    },
    {
      "cell_type": "markdown",
      "source": [
        "#### In this example, we have two except blocks:\n",
        "\n",
        "* The ValueError block handles exceptions that occur if the user enters a value that cannot be converted to an integer.\n",
        "* The ZeroDivisionError block handles exceptions that occur if the user enters 0 as the input."
      ],
      "metadata": {
        "id": "mzND9KwMMiyI"
      }
    },
    {
      "cell_type": "markdown",
      "source": [
        "###Q4. Explain with an example:\n",
        "\n",
        "## a) try and else\n",
        "\n",
        "####In Python, we can use try-except-else blocks to handle exceptions and execute code that should only run if no exceptions occur in the try block.\n",
        "\n",
        "* The try block contains the code that we want to execute, and the except block contains the code that we want to execute if an exception occurs in the try block. The else block contains the code that we want to execute if no exceptions occur in the try block.\n",
        "\n",
        "#### Here's an example that demonstrates how to use try-except-else blocks:\n"
      ],
      "metadata": {
        "id": "7na5MgfSMuHi"
      }
    },
    {
      "cell_type": "code",
      "source": [
        "try:\n",
        "    num = int(input(\"Enter a number: \"))\n",
        "    result = 100 / num\n",
        "except ValueError:\n",
        "    print(\"You must enter a valid integer.\")\n",
        "except ZeroDivisionError:\n",
        "    print(\"You cannot divide by zero.\")\n",
        "else:\n",
        "    print(f\"The result of dividing 100 by {num} is {result}\")\n"
      ],
      "metadata": {
        "colab": {
          "base_uri": "https://localhost:8080/"
        },
        "id": "u7JTytk0MTRz",
        "outputId": "3ddf08d7-9e06-4ce8-d2a1-d112415d3cd6"
      },
      "execution_count": 5,
      "outputs": [
        {
          "output_type": "stream",
          "name": "stdout",
          "text": [
            "Enter a number: 7\n",
            "The result of dividing 100 by 7 is 14.285714285714286\n"
          ]
        }
      ]
    },
    {
      "cell_type": "markdown",
      "source": [
        "# b) finally\n",
        "\n",
        "### a finally block is used in conjunction with a try-except block, and it contains code that is guaranteed to be executed, regardless of whether an exception is thrown or not. The finally block is often used to release resources or perform cleanup operations that should be executed regardless of whether the code in the try block executed successfully or threw an exception.\n",
        "\n",
        "Here's an example that demonstrates the use of a finally block in Python:"
      ],
      "metadata": {
        "id": "oxc9vpwEQgqp"
      }
    },
    {
      "cell_type": "code",
      "source": [
        "try:\n",
        "    file = open(\"example.txt\")\n",
        "    content = file.read()\n",
        "    print(content)\n",
        "except FileNotFoundError:\n",
        "    print(\"File not found!\")\n",
        "finally: \n",
        "    file.close()\n",
        "    print(\"The program has finished executing.\")\n"
      ],
      "metadata": {
        "colab": {
          "base_uri": "https://localhost:8080/"
        },
        "id": "Tw-Un73aPvCR",
        "outputId": "31c032c8-97ed-48e9-ffe3-6fbc3bacb1b1"
      },
      "execution_count": 14,
      "outputs": [
        {
          "output_type": "stream",
          "name": "stdout",
          "text": [
            "\n",
            "The program has finished executing.\n"
          ]
        }
      ]
    },
    {
      "cell_type": "markdown",
      "source": [
        "### c) raise"
      ],
      "metadata": {
        "id": "m2HSWNWXq0FR"
      }
    },
    {
      "cell_type": "code",
      "source": [
        "def divide(x, y):\n",
        "    if y == 0:\n",
        "        raise ZeroDivisionError(\"Cannot divide by zero\")\n",
        "    return x / y\n",
        "\n",
        "try:\n",
        "    result = divide(10, 0)\n",
        "except ZeroDivisionError as e:\n",
        "    print(e)\n"
      ],
      "metadata": {
        "colab": {
          "base_uri": "https://localhost:8080/"
        },
        "id": "a3zHZzZjq3Pg",
        "outputId": "e6280120-667d-4002-f3ec-de5ec180a7cd"
      },
      "execution_count": 21,
      "outputs": [
        {
          "output_type": "stream",
          "name": "stdout",
          "text": [
            "Cannot divide by zero\n"
          ]
        }
      ]
    },
    {
      "cell_type": "markdown",
      "source": [
        "###Q.5 What are Custom Exceptions in python? Why do we need Custom Exceptions? Explain with an example\n",
        "\n",
        "* custom exceptions in Python allow you to define your own types of exceptions, which can be useful for providing more specific error messages to users of your code or for handling situations that don't fit neatly into the built-in exception types.\n",
        "\n",
        "####Custom exceptions are needed for several reasons, including:\n",
        "\n",
        "* Providing more meaningful error messages to users: Custom exceptions can have error messages that are specific to the domain of the application or the use case, which can help users to better understand and address the problem.\n",
        "\n",
        "* Separating error handling from application logic: By creating custom exceptions, the code for handling errors can be separated from the application logic, making the code more modular and easier to maintain.\n",
        "\n",
        "* Standardizing error handling: By using custom exceptions, error handling can be standardized across an application or codebase, making it easier for developers to understand and debug code.\n",
        "\n"
      ],
      "metadata": {
        "id": "E3ih3oc_htOs"
      }
    },
    {
      "cell_type": "code",
      "source": [
        "class MyCustomException(Exception):\n",
        "    pass\n",
        "\n",
        "def my_function(x):\n",
        "    if x < 0:\n",
        "        raise MyCustomException(\"Value cannot be negative\")\n",
        "    return x * 2\n",
        "\n",
        "try:\n",
        "    result = my_function(-10)\n",
        "except MyCustomException as e:\n",
        "    print(e)\n"
      ],
      "metadata": {
        "colab": {
          "base_uri": "https://localhost:8080/"
        },
        "id": "GFQJPgU1qGNy",
        "outputId": "a22c3b4f-6416-4ae2-851b-8b008f072729"
      },
      "execution_count": 20,
      "outputs": [
        {
          "output_type": "stream",
          "name": "stdout",
          "text": [
            "Value cannot be negative\n"
          ]
        }
      ]
    },
    {
      "cell_type": "markdown",
      "source": [
        "###Q6. Create custom exception ,class. Use this class to handle an exception."
      ],
      "metadata": {
        "id": "_gA58EsXpvKQ"
      }
    },
    {
      "cell_type": "code",
      "source": [
        "class InvalidAgeError(Exception):\n",
        "    def __init__(self, message):\n",
        "        self.message = message\n",
        "def check_age(age):\n",
        "    if age < 0:\n",
        "        raise InvalidAgeError(\"Age cannot be negative\")\n",
        "    elif age > 120:\n",
        "        raise InvalidAgeError(\"Age cannot be greater than 120\")\n",
        "    else:\n",
        "        print(\"Age is valid\")\n"
      ],
      "metadata": {
        "id": "ZUjF3-bORRFC"
      },
      "execution_count": 16,
      "outputs": []
    },
    {
      "cell_type": "code",
      "source": [
        "try:\n",
        "    check_age(-10)\n",
        "except InvalidAgeError as e:\n",
        "    print(e.message)\n"
      ],
      "metadata": {
        "colab": {
          "base_uri": "https://localhost:8080/"
        },
        "id": "lRPLx6wZpbCu",
        "outputId": "898485fd-8f0a-46ec-8d4e-e32895c8c0ad"
      },
      "execution_count": 17,
      "outputs": [
        {
          "output_type": "stream",
          "name": "stdout",
          "text": [
            "Age cannot be negative\n"
          ]
        }
      ]
    },
    {
      "cell_type": "code",
      "source": [
        "try:\n",
        "    check_age(130)\n",
        "except InvalidAgeError as e:\n",
        "    print(e.message)\n"
      ],
      "metadata": {
        "colab": {
          "base_uri": "https://localhost:8080/"
        },
        "id": "RveTaW5ZpftP",
        "outputId": "ce5ac063-f5a8-416a-9baf-355cb1e35952"
      },
      "execution_count": 18,
      "outputs": [
        {
          "output_type": "stream",
          "name": "stdout",
          "text": [
            "Age cannot be greater than 120\n"
          ]
        }
      ]
    },
    {
      "cell_type": "code",
      "source": [
        "try:\n",
        "    check_age(30)\n",
        "except InvalidAgeError as e:\n",
        "    print(e.message)\n"
      ],
      "metadata": {
        "colab": {
          "base_uri": "https://localhost:8080/"
        },
        "id": "_wBe-dW0pkev",
        "outputId": "6539af9e-865b-4d7b-b6c6-8ea6a1238101"
      },
      "execution_count": 19,
      "outputs": [
        {
          "output_type": "stream",
          "name": "stdout",
          "text": [
            "Age is valid\n"
          ]
        }
      ]
    },
    {
      "cell_type": "code",
      "source": [],
      "metadata": {
        "id": "GWRIroHBpoxt"
      },
      "execution_count": null,
      "outputs": []
    }
  ]
}